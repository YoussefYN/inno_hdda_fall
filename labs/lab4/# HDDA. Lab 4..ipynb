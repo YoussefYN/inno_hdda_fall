{
 "cells": [
  {
   "cell_type": "markdown",
   "metadata": {},
   "source": [
    "# HDDA. Lab 4. Canonical Correlation Analysis."
   ]
  },
  {
   "cell_type": "markdown",
   "metadata": {},
   "source": [
    "- Chat...eld, C. and A.J.Collins, Introduction to multivariate analysis. Chapman & Hall\n",
    "\n",
    "- Krzanowski, W.J. Principles of multivariate analysis. Oxford.2000\n",
    "\n",
    "- Johnson, R.A.and D.W. Wichern Applied multivariate statistical analysis. Prentice Hall.\n",
    "\n",
    "- Dubrov, A.M., Mkhitaryan, V.S., Troshin L.I. Multidimensional statistical methods. Finance and Statistics."
   ]
  },
  {
   "cell_type": "markdown",
   "metadata": {},
   "source": [
    "### A Little Book of Python for Multivariate Analysis\n",
    "\n",
    "[book](https://python-for-multivariate-analysis.readthedocs.io/a_little_book_of_python_for_multivariate_analysis.html)\n",
    "\n",
    "[ipynb](https://github.com/gatsoulis/a_little_book_of_python_for_multivariate_analysis/blob/master/a_little_book_of_python_for_multivariate_analysis.ipynb)"
   ]
  },
  {
   "cell_type": "markdown",
   "metadata": {},
   "source": [
    "### Wiki\n",
    "\n",
    "- [Probability density function](https://en.wikipedia.org/wiki/Probability_density_function)\n",
    "\n",
    "- [Expected value](https://en.wikipedia.org/wiki/Expected_value)\n",
    "\n",
    "- [Variance](https://en.wikipedia.org/wiki/Variance)\n",
    "\n",
    "- [Covariance and correlation](https://en.wikipedia.org/wiki/Covariance_and_correlation)\n",
    "\n",
    "- [Positive semi-definite matrix](https://en.wikipedia.org/wiki/Positive-definite_matrix)\n",
    "\n",
    "- [Unbiased estimation](https://en.wikipedia.org/wiki/Unbiased_estimation_of_standard_deviation)\n",
    "\n",
    "- [Quadratic form](https://en.wikipedia.org/wiki/Quadratic_form)"
   ]
  },
  {
   "cell_type": "code",
   "execution_count": null,
   "metadata": {},
   "outputs": [],
   "source": [
    "import numpy as np\n",
    "from numpy import dot\n",
    "import scipy.linalg as linalg"
   ]
  },
  {
   "cell_type": "code",
   "execution_count": null,
   "metadata": {},
   "outputs": [],
   "source": [
    "def cca(X,Y):\n",
    "    \"\"\"\n",
    "    Canonical Correlatio Analysis\n",
    "    \n",
    "    Input:\n",
    "    X: observation matrix X, every column is one data point\n",
    "    Y: observation matrix Y, every column is one data point\n",
    "    \n",
    "    Output:\n",
    "    basis in X space, basis in Y space, correlation\n",
    "    \"\"\"\n",
    "    # find variance and covariance matrix\n",
    "    if len(X) == 1:\n",
    "        cov_xx = ???\n",
    "    else:\n",
    "        cov_xx = ???\n",
    "    if len(Y) == 1:\n",
    "        cov_yy = ???\n",
    "    else:\n",
    "        cov_yy = ???\n",
    "    n = len(X)\n",
    "\n",
    "    cov_xy = np.cov(X, Y)[:n,n:]    \n",
    "    cov_yx = np.transpose(cov_xy)\n",
    "    # eigen\n",
    "    cov_xx_evalue,cov_xx_evector = la.eig(cov_xx)\n",
    "    cov_xx_isqrt = dot(dot(cov_xx_evector,np.diag(1/np.sqrt(cov_xx_evalue))),np.transpose(cov_xx_evector))\n",
    "    \n",
    "    cov_yy_evalue, cov_yy_evector = la.eig(cov_yy)\n",
    "    cov_yy_isqrt = dot(dot(cov_yy_evector,np.diag(1/np.sqrt(cov_yy_evalue))), np.transpose(cov_yy_evector))\n",
    "    a = la.inv(cov_yy)\n",
    "    # Xmat and Ymat\n",
    "    Xmat = dot(dot(dot(dot(cov_xx_isqrt,cov_xy),la.inv(cov_yy)),cov_yx),cov_xx_isqrt)\n",
    "    ymat = dot(dot(dot(dot(cov_yy_isqrt,cov_yx),la.inv(cov_xx)),cov_xy),cov_yy_isqrt)\n",
    "    \n",
    "    r1=la.eig(Xmat)\n",
    "    r2=la.eig(Ymat)\n",
    "    \n",
    "    return r1,r2"
   ]
  },
  {
   "cell_type": "code",
   "execution_count": null,
   "metadata": {},
   "outputs": [],
   "source": [
    "a=[-11.25,7.43, 15.48, 2.27, -48.90, -15.13, 49.28, 4.7, 61.32, -268.95, 8488]\n",
    "b=[-10.87, 7.45, 14.97, 1.97, -47.71, -14.46, 44.36, 5.1, 61.76, -273.02, 8399]\n",
    "c=[-11.18, 7.44, 14.20, 1.97, -48.29, -14.81, 43.66, 5.2, 64.16, -263.20, 8328]\n",
    "d=[-10.62, 7.38, 15.02, 2.03, -49.06, -14.72, 44.80, 4.9, 64.04, -285.11, 8306]\n",
    "e=[-11.02, 7.43, 12.92, 1.97, -47.44, -14.40, 41.20, 5.2, 57.46, -256.64, 8286]\n",
    "f=[-10.83, 7.72, 13.58, 2.12, -48.34, -14.18, 43.06, 4.9, 52.18, -274.07, 8272]\n",
    "g=[-11.18, 7.05, 14.12, 2.06, -49.34, -14.39, 41.68, 5.7, 61.60, -291.20, 8216]\n",
    "h=[-11.05, 6.95, 15.34, 2.00, -48.21, -14.36, 41.32, 4.8, 63.00, -265.86, 8189]\n",
    "i=[-11.15, 7.12, 14.52, 2.03, -49.15, -14.66, 42.36,4.9, 66.46, -269.62, 8180]"
   ]
  },
  {
   "cell_type": "code",
   "execution_count": null,
   "metadata": {},
   "outputs": [],
   "source": [
    "data = np.vstack((a,b,c,d,e,f,g,h,i))\n",
    "run100=data[:,0]\n",
    "long_jump = data[:,1]\n",
    "shot = data[:,2]\n",
    "high_jump = data[:,3]\n",
    "run400 = data[:,4]\n",
    "hurdle = data[:,5]\n",
    "discus = data[:,6]\n",
    "pole_vault = data[:,7]\n",
    "javelin = data[:,8]\n",
    "run1500 = data[:,9]\n",
    "score = data[:,10]"
   ]
  },
  {
   "cell_type": "code",
   "execution_count": null,
   "metadata": {},
   "outputs": [],
   "source": [
    "X = np.vstack((shot, discus, javelin,pole_vault))\n",
    "Y = np.vstack((run100, run400,run1500,hurdle,long_jump,high_jump))\n",
    "r1,r2=cca(X,Y)"
   ]
  },
  {
   "cell_type": "code",
   "execution_count": null,
   "metadata": {},
   "outputs": [],
   "source": [
    "print(r1[0])\n",
    "print(np.sqrt(r1[0]))\n",
    "print(r2[0])\n",
    "print(np.sqrt(r2[0]))"
   ]
  },
  {
   "cell_type": "code",
   "execution_count": null,
   "metadata": {},
   "outputs": [],
   "source": [
    "def CCA_SVD(H1, H2, dim):\n",
    "    # H1 and H2 are NxD matrices containing samples rowwise.\n",
    "    # dim is the desired dimensionality of CCA space.\n",
    "    \n",
    "    d1 = H1.shape[0]\n",
    "    d2 = H2.shape[0]\n",
    "    N = H1.shape[1]\n",
    "    \n",
    "    # Remove mean\n",
    "    m1 = np.mean(H1, axis=1)\n",
    "    m2 = np.mean(H2, axis=1)\n",
    "    H1 = H1 - np.reshape(m1,(d1,1))\n",
    "    H2 = H2 - np.reshape(m2,(d2,1))\n",
    "    \n",
    "    S11 = (dot(H1,np.transpose(H1)))/(N-1)\n",
    "    S22 = (dot(H2,np.transpose(H2)))/(N-1)\n",
    "    S12 = (dot(H2,np.transpose(H1)))/(N-1)\n",
    "\n",
    "    D1,V1 = la.eig(S11)\n",
    "    D2,V2 = la.eig(S22)\n",
    "\n",
    "    K11 = dot(dot(V1,np.diag(1/np.sqrt(D1))),np.transpose(V1))\n",
    "    K22 = dot(dot(V2,np.diag(1/np.sqrt(D2))),np.transpose(V2))\n",
    "\n",
    "    T = dot(dot(K22,S12),K11)\n",
    "    U,D,V = np.linalg.svd(T)\n",
    "    D = np.diag(D)\n",
    "    A = dot(K11,np.transpose(V[0:dim,:]))\n",
    "    B = dot(K22,np.transpose(U[0:dim,:]))\n",
    "    D = D[0:dim]\n",
    "    return A,B,D"
   ]
  },
  {
   "cell_type": "code",
   "execution_count": null,
   "metadata": {},
   "outputs": [],
   "source": [
    "from sklearn.cross_decomposition import CCA"
   ]
  },
  {
   "cell_type": "code",
   "execution_count": null,
   "metadata": {},
   "outputs": [],
   "source": []
  }
 ],
 "metadata": {
  "kernelspec": {
   "display_name": "Python 3",
   "language": "python",
   "name": "python3"
  },
  "language_info": {
   "codemirror_mode": {
    "name": "ipython",
    "version": 3
   },
   "file_extension": ".py",
   "mimetype": "text/x-python",
   "name": "python",
   "nbconvert_exporter": "python",
   "pygments_lexer": "ipython3",
   "version": "3.6.5"
  }
 },
 "nbformat": 4,
 "nbformat_minor": 2
}
